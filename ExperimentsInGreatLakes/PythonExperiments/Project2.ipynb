{
 "cells": [
  {
   "cell_type": "code",
   "execution_count": 1,
   "metadata": {},
   "outputs": [],
   "source": [
    "# Guess The Number"
   ]
  },
  {
   "cell_type": "code",
   "execution_count": 2,
   "metadata": {},
   "outputs": [],
   "source": [
    "import random"
   ]
  },
  {
   "cell_type": "code",
   "execution_count": 14,
   "metadata": {},
   "outputs": [
    {
     "name": "stdout",
     "output_type": "stream",
     "text": [
      "Guess The Numebr : 90\n",
      "You guessed it wrong. Please enter a smaller number.\n",
      "Guess The Numebr : 50\n",
      "You guessed it wrong. Please enter a larger number.\n",
      "Guess The Numebr : 75\n",
      "You guessed it wrong. Please enter a larger number.\n",
      "Guess The Numebr : 85\n",
      "You guessed it wrong. Please enter a smaller number.\n",
      "Guess The Numebr : 80\n",
      "You guessed it wrong. Please enter a larger number.\n",
      "Guess The Numebr : 83\n",
      "You guessed it wrong. Please enter a smaller number.\n",
      "Guess The Numebr : 82\n",
      "You guessed it wrong. Please enter a smaller number.\n",
      "Guess The Numebr : 84\n",
      "You guessed it wrong. Please enter a smaller number.\n",
      "Guess The Numebr : 81\n",
      "You guessed it right.\n",
      "You guessed the number correctly in 9 attempts.\n",
      "You have just broken the high score!\n"
     ]
    }
   ],
   "source": [
    "random_number = random.randint(1, 100)\n",
    "# print(random_number)\n",
    "\n",
    "user_number = None\n",
    "guess = 0 \n",
    "while(user_number != random_number) :\n",
    "    user_number = int(input(\"Guess The Numebr : \"))\n",
    "    guess = guess + 1\n",
    "    if user_number == random_number :\n",
    "        print(\"You guessed it right.\")\n",
    "        break\n",
    "    else :\n",
    "        if user_number > random_number :\n",
    "            print(\"You guessed it wrong. Please enter a smaller number.\")\n",
    "        else :\n",
    "            print(\"You guessed it wrong. Please enter a larger number.\")\n",
    "\n",
    "print(f\"You guessed the number correctly in {guess} attempts.\")\n",
    "\n",
    "\n",
    "with open(\"GuessTheNumberHiScore.txt\", \"r\") as f:\n",
    "    hiscore = int(f.read())\n",
    "\n",
    "if(guess<hiscore):\n",
    "    print(\"You have just broken the high score!\")\n",
    "    with open(\"GuessTheNumberHiScore.txt\", \"w\") as f:\n",
    "        f.write(str(guess))"
   ]
  },
  {
   "cell_type": "code",
   "execution_count": null,
   "metadata": {},
   "outputs": [],
   "source": []
  }
 ],
 "metadata": {
  "kernelspec": {
   "display_name": "Python 3",
   "language": "python",
   "name": "python3"
  },
  "language_info": {
   "codemirror_mode": {
    "name": "ipython",
    "version": 3
   },
   "file_extension": ".py",
   "mimetype": "text/x-python",
   "name": "python",
   "nbconvert_exporter": "python",
   "pygments_lexer": "ipython3",
   "version": "3.7.3"
  }
 },
 "nbformat": 4,
 "nbformat_minor": 2
}
