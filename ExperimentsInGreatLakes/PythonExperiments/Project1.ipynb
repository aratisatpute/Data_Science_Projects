{
 "cells": [
  {
   "cell_type": "code",
   "execution_count": 1,
   "metadata": {},
   "outputs": [],
   "source": [
    "# Snake / Water / Gun Game"
   ]
  },
  {
   "cell_type": "code",
   "execution_count": 2,
   "metadata": {},
   "outputs": [],
   "source": [
    "import random"
   ]
  },
  {
   "cell_type": "code",
   "execution_count": 3,
   "metadata": {},
   "outputs": [
    {
     "name": "stdout",
     "output_type": "stream",
     "text": [
      "Comp Turn: Snake(s) Water(w) or Gun(g)?\n"
     ]
    }
   ],
   "source": [
    "\n",
    "print(\"Comp Turn: Snake(s) Water(w) or Gun(g)?\")\n",
    "randomNo = random.randint(1, 3)\n",
    "\n",
    "comp_turn = 0\n",
    "if randomNo == 1 :\n",
    "    comp_turn = 's'\n",
    "elif randomNo == 2 : \n",
    "    comp_turn = 'w'\n",
    "elif randomNo == 3 : \n",
    "    comp_turn = 'g'\n"
   ]
  },
  {
   "cell_type": "code",
   "execution_count": 4,
   "metadata": {},
   "outputs": [],
   "source": [
    "def gameWin(comp_turn, your_turn) :\n",
    "    # If two values are equal, declare a tie!\n",
    "    if comp_turn == your_turn:\n",
    "        return None\n",
    "\n",
    "    # Check for all possibilities when computer chose s\n",
    "    elif comp_turn == 's':\n",
    "        if your_turn =='w':\n",
    "            return False\n",
    "        elif your_turn =='g':\n",
    "            return True\n",
    "    \n",
    "    # Check for all possibilities when computer chose w\n",
    "    elif comp_turn == 'w':\n",
    "        if your_turn =='g':\n",
    "            return False\n",
    "        elif your_turn =='s':\n",
    "            return True\n",
    "    \n",
    "    # Check for all possibilities when computer chose g\n",
    "    elif comp_turn == 'g':\n",
    "        if your_turn =='s':\n",
    "            return False\n",
    "        elif your_turn =='w':\n",
    "            return True"
   ]
  },
  {
   "cell_type": "code",
   "execution_count": 5,
   "metadata": {},
   "outputs": [
    {
     "name": "stdout",
     "output_type": "stream",
     "text": [
      "Your Turn: Snake(s) Water(w) or Gun(g)?g\n",
      "Computer Chose : s\n",
      "You Chose : s\n",
      "You have won\n"
     ]
    }
   ],
   "source": [
    "your_turn = input(\"Your Turn: Snake(s) Water(w) or Gun(g)?\")\n",
    "\n",
    "print(\"Computer Chose : \" + comp_turn) \n",
    "print(\"You Chose : \" + your_turn)\n",
    "\n",
    "winner = gameWin(comp_turn, your_turn)\n",
    "if winner == None : \n",
    "    print(\"It was a Tie\")\n",
    "elif winner == True :\n",
    "    print(\"You have won\")\n",
    "elif winner == False :\n",
    "    print(\"You have lost\")"
   ]
  },
  {
   "cell_type": "code",
   "execution_count": null,
   "metadata": {},
   "outputs": [],
   "source": []
  }
 ],
 "metadata": {
  "kernelspec": {
   "display_name": "Python 3 (ipykernel)",
   "language": "python",
   "name": "python3"
  },
  "language_info": {
   "codemirror_mode": {
    "name": "ipython",
    "version": 3
   },
   "file_extension": ".py",
   "mimetype": "text/x-python",
   "name": "python",
   "nbconvert_exporter": "python",
   "pygments_lexer": "ipython3",
   "version": "3.9.7"
  }
 },
 "nbformat": 4,
 "nbformat_minor": 2
}
